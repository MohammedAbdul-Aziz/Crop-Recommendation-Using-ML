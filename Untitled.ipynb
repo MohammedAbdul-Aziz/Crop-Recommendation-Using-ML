{
 "cells": [
  {
   "cell_type": "code",
   "execution_count": 1,
   "id": "f055bd27",
   "metadata": {},
   "outputs": [
    {
     "name": "stdout",
     "output_type": "stream",
     "text": [
      "Recommended Crop: ['banana']\n"
     ]
    },
    {
     "name": "stderr",
     "output_type": "stream",
     "text": [
      "c:\\Users\\Mohammed Saifullah\\AppData\\Local\\Programs\\Python\\Python311\\Lib\\site-packages\\sklearn\\utils\\validation.py:2739: UserWarning: X does not have valid feature names, but MinMaxScaler was fitted with feature names\n",
      "  warnings.warn(\n"
     ]
    }
   ],
   "source": [
    "import pandas as pd\n",
    "import numpy as np\n",
    "from sklearn.model_selection import train_test_split\n",
    "from sklearn.preprocessing import MinMaxScaler, StandardScaler\n",
    "from sklearn.ensemble import RandomForestClassifier\n",
    "import pickle\n",
    "\n",
    "# Load the dataset\n",
    "crop = pd.read_csv(\"C:/Users/Mohammed Saifullah/Desktop/Crop_recommendation.csv\")  # Replace with your file path\n",
    "\n",
    "# Separate features (X) and target variable (y)\n",
    "X = crop.drop('label', axis=1)\n",
    "y = crop['label']\n",
    "\n",
    "# Split data into training and testing sets\n",
    "X_train, X_test, y_train, y_test = train_test_split(X, y, test_size=0.2, random_state=42)\n",
    "\n",
    "# Feature Scaling\n",
    "# It's crucial to fit the scaler only on the training data and then transform both training and test data.\n",
    "mx = MinMaxScaler()\n",
    "X_train_scaled = mx.fit_transform(X_train)\n",
    "X_test_scaled = mx.transform(X_test)  # Use transform, not fit_transform\n",
    "\n",
    "sc = StandardScaler()\n",
    "X_train_scaled = sc.fit_transform(X_train_scaled)\n",
    "X_test_scaled = sc.transform(X_test_scaled)  # Use transform\n",
    "\n",
    "# Train the Random Forest Classifier\n",
    "randclf = RandomForestClassifier()\n",
    "randclf.fit(X_train_scaled, y_train)\n",
    "\n",
    "# Recommendation function (Corrected)\n",
    "def recommendation(N, P, K, temperature, humidity, ph, rainfall):\n",
    "    features = np.array([[N, P, K, temperature, humidity, ph, rainfall]])\n",
    "    features_scaled = mx.transform(features)  # Use the fitted MinMaxScaler to scale the input\n",
    "    features_scaled = sc.transform(features_scaled)  # Use the fitted StandardScaler\n",
    "    prediction = randclf.predict(features_scaled)\n",
    "    return prediction\n",
    "\n",
    "# Example Usage and Saving the Model and Scalers\n",
    "N = 85\n",
    "P = 95\n",
    "K = 47\n",
    "temperature = 25.940\n",
    "humidity = 78.342\n",
    "ph = 6.21\n",
    "rainfall = 119.0791793\n",
    "\n",
    "predict = recommendation(N, P, K, temperature, humidity, ph, rainfall)\n",
    "print(\"Recommended Crop:\", predict)\n",
    "\n",
    "# Save the model and scalers\n",
    "pickle.dump(randclf, open('model.pkl', 'wb'))\n",
    "pickle.dump(mx, open('minmaxscaler.pkl', 'wb'))\n",
    "pickle.dump(sc, open('standscaler.pkl', 'wb'))"
   ]
  },
  {
   "cell_type": "code",
   "execution_count": null,
   "id": "864e8526",
   "metadata": {},
   "outputs": [],
   "source": []
  }
 ],
 "metadata": {
  "kernelspec": {
   "display_name": "Python 3",
   "language": "python",
   "name": "python3"
  },
  "language_info": {
   "codemirror_mode": {
    "name": "ipython",
    "version": 3
   },
   "file_extension": ".py",
   "mimetype": "text/x-python",
   "name": "python",
   "nbconvert_exporter": "python",
   "pygments_lexer": "ipython3",
   "version": "3.11.0"
  }
 },
 "nbformat": 4,
 "nbformat_minor": 5
}
